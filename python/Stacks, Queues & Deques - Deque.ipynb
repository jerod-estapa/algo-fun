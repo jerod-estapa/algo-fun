{
 "metadata": {
  "name": "",
  "signature": "sha256:7bc2e4553f5223c7e42e5790778743d2e72524cc6af3a6d3b1e9f45d709a56da"
 },
 "nbformat": 3,
 "nbformat_minor": 0,
 "worksheets": []
}