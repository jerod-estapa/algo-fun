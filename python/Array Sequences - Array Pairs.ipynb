{
 "metadata": {
  "name": "",
  "signature": "sha256:bb351b7bdd79890deb31bc5f2a7ad016172148461a1a9f3c06567820f41b3bc0"
 },
 "nbformat": 3,
 "nbformat_minor": 0,
 "worksheets": [
  {
   "cells": [
    {
     "cell_type": "code",
     "collapsed": false,
     "input": [
      "def pair_sum(arr, k):\n",
      "    \n",
      "    if len(arr) < 2:\n",
      "        return\n",
      "    \n",
      "    # Sets for tracking\n",
      "    seen = set()\n",
      "    output = set()\n",
      "    \n",
      "    \n",
      "    for num in arr:\n",
      "        \n",
      "        # Subtract k from each num in arr\n",
      "        target = k-num\n",
      "        \n",
      "        # If difference of k & num not in seen set, add it\n",
      "        if target not in seen:\n",
      "            seen.add(num)\n",
      "            \n",
      "        # If not in seen, add \n",
      "        else:\n",
      "            output.add( ((min(num, target)), max(num, target)) )\n",
      "            \n",
      "    return len(output)"
     ],
     "language": "python",
     "metadata": {},
     "outputs": [],
     "prompt_number": 7
    },
    {
     "cell_type": "code",
     "collapsed": false,
     "input": [
      "\"\"\"\n",
      "RUN THIS CELL TO TEST YOUR SOLUTION\n",
      "\"\"\"\n",
      "from nose.tools import assert_equal\n",
      "\n",
      "class TestPair(object):\n",
      "    \n",
      "    def test(self,sol):\n",
      "        assert_equal(sol([1,9,2,8,3,7,4,6,5,5,13,14,11,13,-1],10),6)\n",
      "        assert_equal(sol([1,2,3,1],3),1)\n",
      "        assert_equal(sol([1,3,2,2],4),2)\n",
      "        print('ALL TEST CASES PASSED')\n",
      "        \n",
      "#Run tests\n",
      "t = TestPair()\n",
      "t.test(pair_sum)"
     ],
     "language": "python",
     "metadata": {},
     "outputs": [
      {
       "output_type": "stream",
       "stream": "stdout",
       "text": [
        "ALL TEST CASES PASSED\n"
       ]
      }
     ],
     "prompt_number": 8
    },
    {
     "cell_type": "code",
     "collapsed": false,
     "input": [],
     "language": "python",
     "metadata": {},
     "outputs": []
    }
   ],
   "metadata": {}
  }
 ]
}