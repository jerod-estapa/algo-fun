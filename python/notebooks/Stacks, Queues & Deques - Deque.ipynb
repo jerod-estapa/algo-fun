{
 "metadata": {
  "name": "",
  "signature": "sha256:a8c30a6695852e0c797cffd102139e500df6c473f1038dbcf6df72f12f63066b"
 },
 "nbformat": 3,
 "nbformat_minor": 0,
 "worksheets": [
  {
   "cells": [
    {
     "cell_type": "heading",
     "level": 1,
     "metadata": {},
     "source": [
      "Implementation of a Deque"
     ]
    },
    {
     "cell_type": "code",
     "collapsed": false,
     "input": [
      "class Deque(object):\n",
      "    \n",
      "    def __init__(self):\n",
      "        self.items = []\n",
      "    \n",
      "    def isEmpty(self):\n",
      "         return self.items == []\n",
      "    \n",
      "    def addFront(self, item):\n",
      "        return self.items.append(item)\n",
      "    \n",
      "    def addRear(self, item):\n",
      "        return self.items.insert(0, item)\n",
      "    \n",
      "    def removeFront(self):\n",
      "        return self.items.pop()\n",
      "    \n",
      "    def removeRear(self):\n",
      "        return self.items.pop(0)\n",
      "    \n",
      "    def size(self):\n",
      "        return len(self.items)"
     ],
     "language": "python",
     "metadata": {},
     "outputs": [],
     "prompt_number": 2
    },
    {
     "cell_type": "code",
     "collapsed": false,
     "input": [
      "d = Deque()"
     ],
     "language": "python",
     "metadata": {},
     "outputs": [],
     "prompt_number": 3
    },
    {
     "cell_type": "code",
     "collapsed": false,
     "input": [
      "d.addFront(\"hello\")"
     ],
     "language": "python",
     "metadata": {},
     "outputs": [],
     "prompt_number": 4
    },
    {
     "cell_type": "code",
     "collapsed": false,
     "input": [
      "d.addRear(\"world\")"
     ],
     "language": "python",
     "metadata": {},
     "outputs": [],
     "prompt_number": 5
    },
    {
     "cell_type": "code",
     "collapsed": false,
     "input": [
      "d.size()"
     ],
     "language": "python",
     "metadata": {},
     "outputs": [
      {
       "metadata": {},
       "output_type": "pyout",
       "prompt_number": 6,
       "text": [
        "2"
       ]
      }
     ],
     "prompt_number": 6
    },
    {
     "cell_type": "code",
     "collapsed": false,
     "input": [
      "print d.removeFront() + ' ' + d.removeRear()"
     ],
     "language": "python",
     "metadata": {},
     "outputs": [
      {
       "output_type": "stream",
       "stream": "stdout",
       "text": [
        "hello world\n"
       ]
      }
     ],
     "prompt_number": 7
    },
    {
     "cell_type": "code",
     "collapsed": false,
     "input": [
      "d.size()"
     ],
     "language": "python",
     "metadata": {},
     "outputs": [
      {
       "metadata": {},
       "output_type": "pyout",
       "prompt_number": 8,
       "text": [
        "0"
       ]
      }
     ],
     "prompt_number": 8
    },
    {
     "cell_type": "code",
     "collapsed": false,
     "input": [
      "d.isEmpty()"
     ],
     "language": "python",
     "metadata": {},
     "outputs": [
      {
       "metadata": {},
       "output_type": "pyout",
       "prompt_number": 9,
       "text": [
        "True"
       ]
      }
     ],
     "prompt_number": 9
    },
    {
     "cell_type": "code",
     "collapsed": false,
     "input": [],
     "language": "python",
     "metadata": {},
     "outputs": []
    }
   ],
   "metadata": {}
  }
 ]
}