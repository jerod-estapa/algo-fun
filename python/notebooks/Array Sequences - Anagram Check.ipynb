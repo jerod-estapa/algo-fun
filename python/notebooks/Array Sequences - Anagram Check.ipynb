{
 "metadata": {
  "name": "",
  "signature": "sha256:a1e055c04814db2cf831e2e2d882e49150ef167414d2ce299291d0fbf3b08d8d"
 },
 "nbformat": 3,
 "nbformat_minor": 0,
 "worksheets": [
  {
   "cells": [
    {
     "cell_type": "markdown",
     "metadata": {},
     "source": [
      "#Anagram Check"
     ]
    },
    {
     "cell_type": "code",
     "collapsed": false,
     "input": [
      "def anagram(s1, s2):\n",
      "    \n",
      "    s1 = s1.replace(' ', '').lower()\n",
      "    s2 = s2.replace(' ', '').lower()\n",
      "    \n",
      "    return sorted(s1) == sorted(s2)"
     ],
     "language": "python",
     "metadata": {},
     "outputs": [],
     "prompt_number": 3
    },
    {
     "cell_type": "code",
     "collapsed": false,
     "input": [
      "anagram('asdfl;kj', 'fdasjkl;')"
     ],
     "language": "python",
     "metadata": {},
     "outputs": [
      {
       "metadata": {},
       "output_type": "pyout",
       "prompt_number": 4,
       "text": [
        "True"
       ]
      }
     ],
     "prompt_number": 4
    },
    {
     "cell_type": "code",
     "collapsed": false,
     "input": [
      "anagram('bongo', 'asdflkjlsdkf')"
     ],
     "language": "python",
     "metadata": {},
     "outputs": [
      {
       "metadata": {},
       "output_type": "pyout",
       "prompt_number": 5,
       "text": [
        "False"
       ]
      }
     ],
     "prompt_number": 5
    },
    {
     "cell_type": "code",
     "collapsed": false,
     "input": [],
     "language": "python",
     "metadata": {},
     "outputs": []
    }
   ],
   "metadata": {}
  }
 ]
}