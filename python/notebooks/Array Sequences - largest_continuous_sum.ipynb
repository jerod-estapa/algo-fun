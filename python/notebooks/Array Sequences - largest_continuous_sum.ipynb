{
 "metadata": {
  "name": "",
  "signature": "sha256:cddacbb07635b80c269ac495d5852ebf11e05532c62c641fe2b6136ef3028cd5"
 },
 "nbformat": 3,
 "nbformat_minor": 0,
 "worksheets": [
  {
   "cells": [
    {
     "cell_type": "code",
     "collapsed": false,
     "input": [
      "def large_cont_sum(arr):\n",
      "    \n",
      "    # Edge case\n",
      "    if len(arr) == 0:\n",
      "        return 0\n",
      "    \n",
      "    # Set max and current sum\n",
      "    max_sum = current_sum = arr[0]\n",
      "    \n",
      "    # Loop through array, starting at second element\n",
      "    for num in arr[1:]:\n",
      "        \n",
      "        # Sets current_sum to the max of cs + num and num\n",
      "        current_sum = max(current_sum + num, num)\n",
      "        \n",
      "        # Sets max_sum to max of cs and ms\n",
      "        max_sum = max(current_sum, max_sum)\n",
      "        \n",
      "    return max_sum"
     ],
     "language": "python",
     "metadata": {},
     "outputs": [],
     "prompt_number": 1
    },
    {
     "cell_type": "code",
     "collapsed": false,
     "input": [
      "arr = [1, 2, 5, -11, 25, 10, -5, -2]"
     ],
     "language": "python",
     "metadata": {},
     "outputs": [],
     "prompt_number": 2
    },
    {
     "cell_type": "code",
     "collapsed": false,
     "input": [
      "large_cont_sum(arr)"
     ],
     "language": "python",
     "metadata": {},
     "outputs": [
      {
       "metadata": {},
       "output_type": "pyout",
       "prompt_number": 3,
       "text": [
        "35"
       ]
      }
     ],
     "prompt_number": 3
    },
    {
     "cell_type": "code",
     "collapsed": false,
     "input": [],
     "language": "python",
     "metadata": {},
     "outputs": []
    }
   ],
   "metadata": {}
  }
 ]
}