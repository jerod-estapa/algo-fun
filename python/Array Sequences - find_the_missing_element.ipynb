{
 "metadata": {
  "name": "",
  "signature": "sha256:69d13b61448cd097a0cc363229f26cea1f3bb52ee4bbb1a789096931202e5051"
 },
 "nbformat": 3,
 "nbformat_minor": 0,
 "worksheets": [
  {
   "cells": [
    {
     "cell_type": "markdown",
     "metadata": {},
     "source": [
      "#Find the Missing Element"
     ]
    },
    {
     "cell_type": "code",
     "collapsed": false,
     "input": [
      "def finder(arr1, arr2):\n",
      "    \n",
      "    arr1.sort()\n",
      "    arr2.sort()\n",
      "    \n",
      "    for num1, num2 in zip(arr1, arr2):\n",
      "        if num1 != num2:\n",
      "            return num1\n",
      "        \n",
      "    return arr1[-1]"
     ],
     "language": "python",
     "metadata": {},
     "outputs": [],
     "prompt_number": 1
    },
    {
     "cell_type": "code",
     "collapsed": false,
     "input": [
      "arr1 = [1,2,3,4,5]\n",
      "arr2 = [1,2,4,5]"
     ],
     "language": "python",
     "metadata": {},
     "outputs": [],
     "prompt_number": 2
    },
    {
     "cell_type": "code",
     "collapsed": false,
     "input": [
      "finder(arr1, arr2)"
     ],
     "language": "python",
     "metadata": {},
     "outputs": [
      {
       "metadata": {},
       "output_type": "pyout",
       "prompt_number": 3,
       "text": [
        "3"
       ]
      }
     ],
     "prompt_number": 3
    },
    {
     "cell_type": "code",
     "collapsed": false,
     "input": [
      "import collections"
     ],
     "language": "python",
     "metadata": {},
     "outputs": [],
     "prompt_number": 4
    },
    {
     "cell_type": "code",
     "collapsed": false,
     "input": [
      "def finder2(arr1, arr2):\n",
      "    \n",
      "    d = collections.defaultdict(int)\n",
      "    \n",
      "    for num in arr2:\n",
      "        d[num] += 1\n",
      "        \n",
      "    for num in arr1:\n",
      "        if d[num] == 0:\n",
      "            return num\n",
      "        \n",
      "        else:\n",
      "            d[num] -= 1"
     ],
     "language": "python",
     "metadata": {},
     "outputs": [],
     "prompt_number": 5
    },
    {
     "cell_type": "code",
     "collapsed": false,
     "input": [
      "finder2(arr1, arr2)"
     ],
     "language": "python",
     "metadata": {},
     "outputs": [
      {
       "metadata": {},
       "output_type": "pyout",
       "prompt_number": 6,
       "text": [
        "3"
       ]
      }
     ],
     "prompt_number": 6
    },
    {
     "cell_type": "code",
     "collapsed": false,
     "input": [
      "print zip(arr1, arr2)"
     ],
     "language": "python",
     "metadata": {},
     "outputs": [
      {
       "output_type": "stream",
       "stream": "stdout",
       "text": [
        "[(1, 1), (2, 2), (3, 4), (4, 5)]\n"
       ]
      }
     ],
     "prompt_number": 8
    },
    {
     "cell_type": "code",
     "collapsed": false,
     "input": [],
     "language": "python",
     "metadata": {},
     "outputs": []
    }
   ],
   "metadata": {}
  }
 ]
}