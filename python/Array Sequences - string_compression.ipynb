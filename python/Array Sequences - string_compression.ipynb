{
 "metadata": {
  "name": "",
  "signature": "sha256:9ddeb30fce0f1d06c0cb2f1e6f8d36e841c6ea0a4956eaad45939e07ec3ca076"
 },
 "nbformat": 3,
 "nbformat_minor": 0,
 "worksheets": [
  {
   "cells": [
    {
     "cell_type": "code",
     "collapsed": false,
     "input": [
      "def compress(s):\n",
      "    \n",
      "    r = \"\"\n",
      "    l = len(s)\n",
      "    \n",
      "    # edge case\n",
      "    if l == 0:\n",
      "        return \"\"\n",
      "    \n",
      "    # edge case\n",
      "    if l == 1:\n",
      "        return s + \"1\"\n",
      "    \n",
      "    # sets initial values for variables to be used\n",
      "    last = s[0]\n",
      "    cnt = 1\n",
      "    i = 1\n",
      "    \n",
      "    while i < l:\n",
      "        \n",
      "        if s[i] == s[i - 1]:\n",
      "            cnt += 1\n",
      "            \n",
      "        else:\n",
      "            r = r + s[i - 1] + str(cnt)\n",
      "            \n",
      "        i += 1\n",
      "        \n",
      "    r = r + s[i - 1] + str(cnt)\n",
      "    \n",
      "    return r\n",
      "            "
     ],
     "language": "python",
     "metadata": {},
     "outputs": [],
     "prompt_number": 4
    },
    {
     "cell_type": "code",
     "collapsed": false,
     "input": [
      "compress('alsdkfjalskdjljdlkfjlklksjdf')"
     ],
     "language": "python",
     "metadata": {},
     "outputs": [
      {
       "metadata": {},
       "output_type": "pyout",
       "prompt_number": 5,
       "text": [
        "'a1l1s1d1k1f1j1a1l1s1k1d1j1l1j1d1l1k1f1j1l1k1l1k1s1j1d1f1'"
       ]
      }
     ],
     "prompt_number": 5
    },
    {
     "cell_type": "code",
     "collapsed": false,
     "input": [],
     "language": "python",
     "metadata": {},
     "outputs": []
    }
   ],
   "metadata": {}
  }
 ]
}