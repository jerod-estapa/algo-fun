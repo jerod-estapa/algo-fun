{
 "metadata": {
  "name": "",
  "signature": "sha256:cfd2458979b171d91fe1d49f64c5c66f2ae0177d70cc5edca500e2a24dc93260"
 },
 "nbformat": 3,
 "nbformat_minor": 0,
 "worksheets": [
  {
   "cells": [
    {
     "cell_type": "code",
     "collapsed": false,
     "input": [
      "def rev_word(s):\n",
      "    \n",
      "    words = []\n",
      "    length = len(s)\n",
      "    spaces = [\" \"]\n",
      "    \n",
      "    i = 0\n",
      "    \n",
      "    while i < length:\n",
      "        \n",
      "        if s[i] not in spaces:\n",
      "            \n",
      "            word_start = i\n",
      "            \n",
      "            while i < length and s[i] not in spaces:\n",
      "                \n",
      "                i += 1\n",
      "                \n",
      "            words.append(s[word_start:i])\n",
      "            \n",
      "        i += 1\n",
      "        \n",
      "    # return \" \".join(reversed(words))\n",
      "    \n",
      "    return \" \".join(words[::-1])\n",
      "\n",
      "    \n",
      "    # create a function that reverses a list\n",
      "    # rev = lambda l: [l[-1]] + (rev(l[:-1]) if len(l) > 1 else [])\n",
      "    # return \" \".join(rev(words))\n",
      "    "
     ],
     "language": "python",
     "metadata": {},
     "outputs": [],
     "prompt_number": 15
    },
    {
     "cell_type": "code",
     "collapsed": false,
     "input": [
      "rev_word('   capacity negative       ')"
     ],
     "language": "python",
     "metadata": {},
     "outputs": [
      {
       "metadata": {},
       "output_type": "pyout",
       "prompt_number": 4,
       "text": [
        "'negative capacity'"
       ]
      }
     ],
     "prompt_number": 4
    },
    {
     "cell_type": "code",
     "collapsed": false,
     "input": [
      "rev_word('   capacity negative    ')"
     ],
     "language": "python",
     "metadata": {},
     "outputs": [
      {
       "metadata": {},
       "output_type": "pyout",
       "prompt_number": 16,
       "text": [
        "'negative capacity'"
       ]
      }
     ],
     "prompt_number": 16
    },
    {
     "cell_type": "code",
     "collapsed": false,
     "input": [],
     "language": "python",
     "metadata": {},
     "outputs": []
    }
   ],
   "metadata": {}
  }
 ]
}